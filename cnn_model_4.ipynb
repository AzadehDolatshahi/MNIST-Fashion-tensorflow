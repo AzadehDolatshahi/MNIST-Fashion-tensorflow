{
 "cells": [
  {
   "cell_type": "markdown",
   "metadata": {},
   "source": [
    "# Plan\n",
    "1. read data, split to labels and data, reshape data for Convulotional networks\n",
    "2. explore data, view all categories\n",
    "3. make dense model (model_1 in preivous notebook)\n",
    "4. convulotional model (model_2 current notebook)\n",
    "5. pretrained network ResNet50\n",
    "6. Transfer learning with ResNet50\n"
   ]
  },
  {
   "cell_type": "markdown",
   "metadata": {},
   "source": []
  },
  {
   "cell_type": "code",
   "execution_count": 4,
   "metadata": {},
   "outputs": [],
   "source": [
    "import os\n",
    "import pandas as pd\n",
    "import numpy as np\n",
    "import matplotlib.pyplot as plt\n",
    "import cv2\n",
    "from tensorflow.keras.utils import to_categorical\n",
    "from tensorflow.keras.models import Sequential\n",
    "import tensorflow.keras as keras\n",
    "from keras.callbacks import EarlyStopping\n",
    "from tensorflow.keras import preprocessing \n",
    "from tensorflow.keras import backend as K\n",
    "from skimage.transform import resize\n",
    "from sklearn.metrics import confusion_matrix,ConfusionMatrixDisplay\n",
    "from tensorflow.keras.applications.resnet50 import ResNet50, decode_predictions,preprocess_input\n",
    "from tensorflow.keras.layers import Conv2D, Dense, MaxPooling2D, Activation, Flatten, Dropout, BatchNormalization\n",
    "from tensorflow.keras import models, layers\n"
   ]
  },
  {
   "cell_type": "markdown",
   "metadata": {},
   "source": [
    "# Read Data"
   ]
  },
  {
   "cell_type": "code",
   "execution_count": 5,
   "metadata": {},
   "outputs": [],
   "source": [
    "from tensorflow.keras.datasets import fashion_mnist\n",
    "(xtrain,ytrain),(xtest,ytest) =fashion_mnist.load_data()\n",
    "y_test_copy=ytest\n",
    "#reshape\n",
    "xtrain= xtrain.reshape((60000, 28, 28,1))\n",
    "xtest= xtest.reshape((10000, 28, 28,1))\n"
   ]
  },
  {
   "cell_type": "code",
   "execution_count": 5,
   "metadata": {},
   "outputs": [
    {
     "data": {
      "text/plain": [
       "<matplotlib.image.AxesImage at 0x7fe247e1dd30>"
      ]
     },
     "execution_count": 5,
     "metadata": {},
     "output_type": "execute_result"
    },
    {
     "data": {
      "image/png": "[encoded data removed]",
      "text/plain": [
       "<Figure size 432x288 with 1 Axes>"
      ]
     },
     "metadata": {
      "needs_background": "light"
     },
     "output_type": "display_data"
    }
   ],
   "source": [
    "plt.imshow(xtrain[59999],cmap='gray')"
   ]
  },
  {
   "cell_type": "code",
   "execution_count": 6,
   "metadata": {},
   "outputs": [],
   "source": [
    "# convert to RGB because ResNet input is RGB function\n",
    "def img_set_to_rgb(data):\n",
    "   img=[]\n",
    "   #img=np.empty(data.shape)\n",
    "   for i in range (len(data)):\n",
    "       img_gray=data[i,:,:,:]\n",
    "       img_rgb =cv2.cvtColor(img_gray,cv2.COLOR_GRAY2RGB)\n",
    "       img.append(img_rgb) \n",
    "       \n",
    "   img = np.asarray(img)\n",
    "   return img   "
   ]
  },
  {
   "cell_type": "code",
   "execution_count": 7,
   "metadata": {},
   "outputs": [
    {
     "data": {
      "text/plain": [
       "((60000, 28, 28, 3), (10000, 28, 28, 3))"
      ]
     },
     "execution_count": 7,
     "metadata": {},
     "output_type": "execute_result"
    }
   ],
   "source": [
    "# convert to RGB because ResNet input\n",
    "xtest=img_set_to_rgb(xtest)\n",
    "xtrain=img_set_to_rgb(xtrain)\n",
    "xtrain.shape,xtest.shape\n"
   ]
  },
  {
   "cell_type": "code",
   "execution_count": 8,
   "metadata": {},
   "outputs": [
    {
     "data": {
      "text/plain": [
       "<matplotlib.image.AxesImage at 0x7fde0e5a8a00>"
      ]
     },
     "execution_count": 8,
     "metadata": {},
     "output_type": "execute_result"
    },
    {
     "data": {
      "image/png": "[encoded data removed]",
      "text/plain": [
       "<Figure size 432x288 with 1 Axes>"
      ]
     },
     "metadata": {
      "needs_background": "light"
     },
     "output_type": "display_data"
    }
   ],
   "source": [
    "plt.imshow(xtrain[59999],cmap='gray')"
   ]
  },
  {
   "cell_type": "markdown",
   "metadata": {},
   "source": [
    "<h5>Define labels </h5>\n"
   ]
  },
  {
   "cell_type": "code",
   "execution_count": 9,
   "metadata": {},
   "outputs": [],
   "source": [
    "# dictionary of labels \n",
    "true_labels = {0 : \"T-shirt/top\", 1: \"Trouser\", 2: \"Pullover\", 3: \"Dress\", 4: \"Coat\",\n",
    "          5: \"Sandal\", 6: \"Shirt\", 7: \"Sneaker\", 8: \"Bag\", 9: \"Ankle Boot\"}"
   ]
  },
  {
   "cell_type": "markdown",
   "metadata": {},
   "source": [
    "# 4th model: Transfer learning with ResNet50\n",
    "<h3> prepproceesing required </h3>"
   ]
  },
  {
   "cell_type": "code",
   "execution_count": 10,
   "metadata": {},
   "outputs": [],
   "source": [
    "# convert to RGB because ResNet input is RGB function\n",
    "def scale_img(data,width, height):\n",
    "   img=[]\n",
    "   dim = (width, height)\n",
    "   for i in range (len(data)):\n",
    "       img_var=data[i,:,:,:]\n",
    "       img_resized =cv2.resize(img_var, dim, interpolation = cv2.INTER_AREA)\n",
    "       img.append(img_resized) \n",
    "       \n",
    "   img = np.asarray(img)\n",
    "   return img   "
   ]
  },
  {
   "cell_type": "code",
   "execution_count": 11,
   "metadata": {},
   "outputs": [],
   "source": [
    "#rescale image to the input data shape\n",
    "X_train_image=scale_img(xtrain,224,224)\n",
    "X_test_image=scale_img(xtest,224,224)"
   ]
  },
  {
   "cell_type": "code",
   "execution_count": 12,
   "metadata": {},
   "outputs": [],
   "source": [
    "# preprocessing\n",
    "X_train_image = preprocess_input(X_train_image)\n",
    "X_test_image = preprocess_input(X_test_image)"
   ]
  },
  {
   "cell_type": "code",
   "execution_count": 13,
   "metadata": {},
   "outputs": [
    {
     "data": {
      "text/plain": [
       "((60000, 224, 224, 3), dtype('float32'))"
      ]
     },
     "execution_count": 13,
     "metadata": {},
     "output_type": "execute_result"
    }
   ],
   "source": [
    "X_train_image.shape, X_train_image.dtype"
   ]
  },
  {
   "cell_type": "code",
   "execution_count": 13,
   "metadata": {},
   "outputs": [
    {
     "name": "stderr",
     "output_type": "stream",
     "text": [
      "Clipping input data to the valid range for imshow with RGB data ([0..1] for floats or [0..255] for integers).\n"
     ]
    },
    {
     "data": {
      "text/plain": [
       "<matplotlib.image.AxesImage at 0x7fde0e567460>"
      ]
     },
     "execution_count": 13,
     "metadata": {},
     "output_type": "execute_result"
    },
    {
     "data": {
      "image/png": "[encoded data removed]",
      "text/plain": [
       "<Figure size 432x288 with 1 Axes>"
      ]
     },
     "metadata": {
      "needs_background": "light"
     },
     "output_type": "display_data"
    }
   ],
   "source": [
    "plt.imshow(X_train_image[1])  # come back to it"
   ]
  },
  {
   "cell_type": "markdown",
   "metadata": {},
   "source": [
    "# Another way"
   ]
  },
  {
   "cell_type": "code",
   "execution_count": 38,
   "metadata": {},
   "outputs": [],
   "source": [
    "classes=list(true_labels.values())"
   ]
  },
  {
   "cell_type": "code",
   "execution_count": 39,
   "metadata": {},
   "outputs": [],
   "source": [
    "# imgae data generator and th efunctions to be applied to it\n",
    "data_gen = preprocessing.image.ImageDataGenerator(rescale=1./255, preprocessing_function=preprocess_input)"
   ]
  },
  {
   "cell_type": "code",
   "execution_count": 50,
   "metadata": {},
   "outputs": [
    {
     "data": {
      "text/plain": [
       "(60000, 224, 224, 3)"
      ]
     },
     "execution_count": 50,
     "metadata": {},
     "output_type": "execute_result"
    }
   ],
   "source": [
    "X_train_image.shape"
   ]
  },
  {
   "cell_type": "code",
   "execution_count": null,
   "metadata": {},
   "outputs": [],
   "source": [
    "# a generator that returns batches of X and y arrays\n",
    "train_data_gen = data_gen.flow(X_train_image,y_train, subset='training', batch_size=30)"
   ]
  },
  {
   "cell_type": "code",
   "execution_count": null,
   "metadata": {},
   "outputs": [],
   "source": [
    "# load in all images at once\n",
    "xtrain, ytrain = next(train_data_gen)\n",
    "xtrain.shape, ytrain.shape"
   ]
  },
  {
   "cell_type": "markdown",
   "metadata": {},
   "source": [
    "# Transfer learning model"
   ]
  },
  {
   "cell_type": "code",
   "execution_count": 16,
   "metadata": {},
   "outputs": [],
   "source": [
    "y_test = to_categorical(ytest)\n",
    "y_train = to_categorical(ytrain)"
   ]
  },
  {
   "cell_type": "code",
   "execution_count": 17,
   "metadata": {},
   "outputs": [
    {
     "name": "stdout",
     "output_type": "stream",
     "text": [
      "Model: \"sequential\"\n",
      "_________________________________________________________________\n",
      " Layer (type)                Output Shape              Param #   \n",
      "=================================================================\n",
      " resnet50 (Functional)       (None, 2048)              23587712  \n",
      "                                                                 \n",
      " dense (Dense)               (None, 10)                20490     \n",
      "                                                                 \n",
      "=================================================================\n",
      "Total params: 23,608,202\n",
      "Trainable params: 20,490\n",
      "Non-trainable params: 23,587,712\n",
      "_________________________________________________________________\n"
     ]
    }
   ],
   "source": [
    "K.clear_session()\n",
    "model_4 = Sequential()\n",
    "model_4.add(ResNet50(include_top = False, pooling = 'avg', weights = 'imagenet'))\n",
    "model_4.add(Dense(10, activation = 'softmax'))\n",
    "model_4.layers[0].trainable = False\n",
    "model_4.summary()"
   ]
  },
  {
   "cell_type": "markdown",
   "metadata": {},
   "source": [
    "# Compile and fit"
   ]
  },
  {
   "cell_type": "code",
   "execution_count": 18,
   "metadata": {},
   "outputs": [
    {
     "name": "stdout",
     "output_type": "stream",
     "text": [
      "Epoch 1/40\n",
      "840/840 [==============================] - 3155s 4s/step - loss: 0.4676 - accuracy: 0.8373 - val_loss: 0.3558 - val_accuracy: 0.8738\n",
      "Epoch 2/40\n",
      "840/840 [==============================] - 3309s 4s/step - loss: 0.3307 - accuracy: 0.8821 - val_loss: 0.3127 - val_accuracy: 0.8891\n",
      "Epoch 3/40\n",
      "840/840 [==============================] - 4073s 5s/step - loss: 0.2939 - accuracy: 0.8943 - val_loss: 0.2973 - val_accuracy: 0.8934\n",
      "Epoch 4/40\n",
      "840/840 [==============================] - 9580s 11s/step - loss: 0.2716 - accuracy: 0.9029 - val_loss: 0.3155 - val_accuracy: 0.8865\n",
      "Epoch 5/40\n",
      "840/840 [==============================] - 9672s 12s/step - loss: 0.2603 - accuracy: 0.9060 - val_loss: 0.3029 - val_accuracy: 0.8929\n",
      "Epoch 6/40\n",
      "840/840 [==============================] - 8915s 11s/step - loss: 0.2487 - accuracy: 0.9093 - val_loss: 0.2753 - val_accuracy: 0.9027\n",
      "Epoch 7/40\n",
      "840/840 [==============================] - 3430s 4s/step - loss: 0.2350 - accuracy: 0.9165 - val_loss: 0.2895 - val_accuracy: 0.8974\n",
      "Epoch 8/40\n",
      "840/840 [==============================] - 3513s 4s/step - loss: 0.2269 - accuracy: 0.9167 - val_loss: 0.2826 - val_accuracy: 0.9014\n",
      "Epoch 9/40\n",
      "840/840 [==============================] - 3160s 4s/step - loss: 0.2189 - accuracy: 0.9188 - val_loss: 0.3108 - val_accuracy: 0.8918\n"
     ]
    }
   ],
   "source": [
    "model_4.compile(optimizer=keras.optimizers.Adam(learning_rate=0.001), loss='categorical_crossentropy', metrics=['accuracy'])              \n",
    "\n",
    "# observe the validation loss and stop when it does not improve after 3 iterations\n",
    "early_stopping_monitor = EarlyStopping(monitor='val_loss', patience=3)\n",
    "model_2_training = model_4.fit(X_train_image, y_train, epochs=40, batch_size = 50, validation_split=0.3, callbacks=[early_stopping_monitor], verbose=1)\n"
   ]
  },
  {
   "cell_type": "code",
   "execution_count": 19,
   "metadata": {},
   "outputs": [],
   "source": [
    "# save model\n",
    "model_4.save('models/transfer_learning_ResNet50.h5')"
   ]
  },
  {
   "cell_type": "code",
   "execution_count": 31,
   "metadata": {},
   "outputs": [],
   "source": [
    "# predications\n",
    "pred = model_4.predict(X_test_image)"
   ]
  },
  {
   "cell_type": "markdown",
   "metadata": {},
   "source": [
    "# Test"
   ]
  },
  {
   "cell_type": "code",
   "execution_count": 26,
   "metadata": {},
   "outputs": [
    {
     "data": {
      "text/plain": [
       "(1, 224, 224, 3)"
      ]
     },
     "execution_count": 26,
     "metadata": {},
     "output_type": "execute_result"
    }
   ],
   "source": [
    "t=X_test_image[1]\n",
    "t = np.expand_dims(t, axis=0)\n",
    "t.shape"
   ]
  },
  {
   "cell_type": "code",
   "execution_count": 27,
   "metadata": {},
   "outputs": [],
   "source": [
    "pred = model_4.predict(t)"
   ]
  },
  {
   "cell_type": "code",
   "execution_count": 29,
   "metadata": {},
   "outputs": [
    {
     "data": {
      "text/plain": [
       "'Pullover'"
      ]
     },
     "execution_count": 29,
     "metadata": {},
     "output_type": "execute_result"
    }
   ],
   "source": [
    "true_labels[np.argmax(pred)]"
   ]
  },
  {
   "cell_type": "code",
   "execution_count": 30,
   "metadata": {},
   "outputs": [
    {
     "name": "stderr",
     "output_type": "stream",
     "text": [
      "Clipping input data to the valid range for imshow with RGB data ([0..1] for floats or [0..255] for integers).\n"
     ]
    },
    {
     "data": {
      "text/plain": [
       "[]"
      ]
     },
     "execution_count": 30,
     "metadata": {},
     "output_type": "execute_result"
    },
    {
     "data": {
      "image/png": "[encoded data removed]",
      "text/plain": [
       "<Figure size 432x288 with 1 Axes>"
      ]
     },
     "metadata": {},
     "output_type": "display_data"
    }
   ],
   "source": [
    "test=plt.imshow(X_test_image[1],cmap='gray')\n",
    "plt.xlabel('True label: ' +str(true_labels[ytest[1]])+ '; prediction :'+ str(true_labels[np.argmax(pred)]), color='#F9F6EE')\n",
    "ax = plt.gca()\n",
    "ax.xaxis.set_ticks([])\n",
    "ax.yaxis.set_ticks([])"
   ]
  },
  {
   "cell_type": "markdown",
   "metadata": {},
   "source": []
  },
  {
   "cell_type": "code",
   "execution_count": 32,
   "metadata": {},
   "outputs": [
    {
     "data": {
      "text/plain": [
       "Text(0, 0.5, 'accuracy')"
      ]
     },
     "execution_count": 32,
     "metadata": {},
     "output_type": "execute_result"
    },
    {
     "data": {
      "image/png": "[encoded data removed]",
      "text/plain": [
       "<Figure size 432x288 with 1 Axes>"
      ]
     },
     "metadata": {
      "needs_background": "light"
     },
     "output_type": "display_data"
    },
    {
     "data": {
      "image/png": "[encoded data removed]",
      "text/plain": [
       "<Figure size 432x288 with 1 Axes>"
      ]
     },
     "metadata": {
      "needs_background": "light"
     },
     "output_type": "display_data"
    }
   ],
   "source": [
    "model_2_training.history.keys()\n",
    "pd.DataFrame(model_2_training.history)[['loss', 'val_loss']].plot()\n",
    "plt.xlabel('epochs')\n",
    "plt.ylabel('loss')\n",
    "\n",
    "#\n",
    "pd.DataFrame(model_2_training.history)[['val_accuracy', 'accuracy']].plot()\n",
    "plt.xlabel('epochs')\n",
    "plt.ylabel('accuracy')"
   ]
  },
  {
   "cell_type": "code",
   "execution_count": 38,
   "metadata": {},
   "outputs": [
    {
     "data": {
      "text/plain": [
       "(array([0, 1, 2, 3, 4, 5, 6, 7, 8, 9]),\n",
       " [Text(0, 0, 'T-shirt/top'),\n",
       "  Text(1, 0, 'Trouser'),\n",
       "  Text(2, 0, 'Pullover'),\n",
       "  Text(3, 0, 'Dress'),\n",
       "  Text(4, 0, 'Coat'),\n",
       "  Text(5, 0, 'Sandal'),\n",
       "  Text(6, 0, 'Shirt'),\n",
       "  Text(7, 0, 'Sneaker'),\n",
       "  Text(8, 0, 'Bag'),\n",
       "  Text(9, 0, 'Ankle Boot')])"
      ]
     },
     "execution_count": 38,
     "metadata": {},
     "output_type": "execute_result"
    },
    {
     "data": {
      "text/plain": [
       "<Figure size 720x720 with 0 Axes>"
      ]
     },
     "metadata": {},
     "output_type": "display_data"
    },
    {
     "data": {
      "image/png": "[encoded data removed]",
      "text/plain": [
       "<Figure size 432x288 with 2 Axes>"
      ]
     },
     "metadata": {
      "needs_background": "light"
     },
     "output_type": "display_data"
    }
   ],
   "source": [
    "ax =plt.figure(figsize = (10,10))\n",
    "cm = confusion_matrix(y_true=y_test_copy, y_pred=np.argmax(pred, axis=1))\n",
    "disp = ConfusionMatrixDisplay(confusion_matrix=cm, display_labels=true_labels.values())\n",
    "\n",
    "disp.plot()                                 # change the size of the matrix\n",
    "plt.xticks(rotation=45)"
   ]
  },
  {
   "cell_type": "code",
   "execution_count": 37,
   "metadata": {},
   "outputs": [],
   "source": []
  },
  {
   "cell_type": "code",
   "execution_count": null,
   "metadata": {},
   "outputs": [],
   "source": []
  }
 ],
 "metadata": {
  "interpreter": {
   "hash": "c7cd1150ff912a2c451df53f6d2d9701b5c16553b9f23db12ccb3823d64fa8ff"
  },
  "kernelspec": {
   "display_name": "Python 3.9.7 ('CNN_week')",
   "language": "python",
   "name": "python3"
  },
  "language_info": {
   "codemirror_mode": {
    "name": "ipython",
    "version": 3
   },
   "file_extension": ".py",
   "mimetype": "text/x-python",
   "name": "python",
   "nbconvert_exporter": "python",
   "pygments_lexer": "ipython3",
   "version": "3.9.7"
  },
  "orig_nbformat": 4
 },
 "nbformat": 4,
 "nbformat_minor": 2
}
